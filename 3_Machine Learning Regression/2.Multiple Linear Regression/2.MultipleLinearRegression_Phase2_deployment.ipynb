{
 "cells": [
  {
   "cell_type": "code",
   "execution_count": 1,
   "id": "fc6d0aa1-d221-4f44-b273-9359d21655e8",
   "metadata": {},
   "outputs": [
    {
     "name": "stderr",
     "output_type": "stream",
     "text": [
      "C:\\Anaconda3\\Lib\\site-packages\\sklearn\\utils\\validation.py:2739: UserWarning: X does not have valid feature names, but LinearRegression was fitted with feature names\n",
      "  warnings.warn(\n"
     ]
    }
   ],
   "source": [
    "import pickle\n",
    "model = pickle.load(open('MultipleLinearRegressionModel.sav', 'rb'))\n",
    "result=model.predict([[13424,64524,73452,1,0]])"
   ]
  },
  {
   "cell_type": "code",
   "execution_count": 2,
   "id": "d185af84-80e3-4198-9a28-d3c6cb8e6494",
   "metadata": {},
   "outputs": [
    {
     "data": {
      "text/plain": [
       "array([[57709.66208278]])"
      ]
     },
     "execution_count": 2,
     "metadata": {},
     "output_type": "execute_result"
    }
   ],
   "source": [
    "result"
   ]
  },
  {
   "cell_type": "code",
   "execution_count": null,
   "id": "3821b7f2-ad36-4a11-9406-5b86a9fe23e3",
   "metadata": {},
   "outputs": [],
   "source": []
  }
 ],
 "metadata": {
  "kernelspec": {
   "display_name": "Python 3 (ipykernel)",
   "language": "python",
   "name": "python3"
  },
  "language_info": {
   "codemirror_mode": {
    "name": "ipython",
    "version": 3
   },
   "file_extension": ".py",
   "mimetype": "text/x-python",
   "name": "python",
   "nbconvert_exporter": "python",
   "pygments_lexer": "ipython3",
   "version": "3.13.5"
  }
 },
 "nbformat": 4,
 "nbformat_minor": 5
}
