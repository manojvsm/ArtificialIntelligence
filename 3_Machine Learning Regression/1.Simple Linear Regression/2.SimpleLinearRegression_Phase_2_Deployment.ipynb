{
 "cells": [
  {
   "cell_type": "code",
   "execution_count": 1,
   "id": "d4d34572-25ae-4b59-9ae5-79411d9a50db",
   "metadata": {},
   "outputs": [],
   "source": [
    "import pickle"
   ]
  },
  {
   "cell_type": "code",
   "execution_count": 2,
   "id": "7cfdaa3b-14c3-4c43-8781-f1930a0fefd6",
   "metadata": {},
   "outputs": [
    {
     "name": "stderr",
     "output_type": "stream",
     "text": [
      "C:\\Anaconda3\\Lib\\site-packages\\sklearn\\utils\\validation.py:2739: UserWarning: X does not have valid feature names, but LinearRegression was fitted with feature names\n",
      "  warnings.warn(\n"
     ]
    }
   ],
   "source": [
    "loaded_model = pickle.load(open(\"finalized_model_linear.sav\",'rb'))\n",
    "result = loaded_model.predict([[34]])"
   ]
  },
  {
   "cell_type": "code",
   "execution_count": 3,
   "id": "c662c8eb-1af4-4a51-9799-54e730beb7de",
   "metadata": {},
   "outputs": [
    {
     "data": {
      "text/plain": [
       "array([[345026.27507178]])"
      ]
     },
     "execution_count": 3,
     "metadata": {},
     "output_type": "execute_result"
    }
   ],
   "source": [
    "result"
   ]
  },
  {
   "cell_type": "code",
   "execution_count": 4,
   "id": "fadb6773-5490-460f-9f64-e1cdf2e43db4",
   "metadata": {},
   "outputs": [],
   "source": [
    "import pandas as pd\n",
    "#loaded_model = pickle.load(open(\"finalized_model_linear.sav\",'rb'))\n",
    "result = loaded_model.predict(pd.DataFrame({'YearsExperience':[35]})) # to rectify above warning message"
   ]
  },
  {
   "cell_type": "code",
   "execution_count": 5,
   "id": "2ba16aa1-24e9-498b-b674-0738be725f04",
   "metadata": {},
   "outputs": [
    {
     "data": {
      "text/plain": [
       "array([[354386.53635798]])"
      ]
     },
     "execution_count": 5,
     "metadata": {},
     "output_type": "execute_result"
    }
   ],
   "source": [
    "result"
   ]
  },
  {
   "cell_type": "code",
   "execution_count": null,
   "id": "adf824da-efdf-4038-9a2a-3f4c29383fe3",
   "metadata": {},
   "outputs": [],
   "source": []
  }
 ],
 "metadata": {
  "kernelspec": {
   "display_name": "Python 3 (ipykernel)",
   "language": "python",
   "name": "python3"
  },
  "language_info": {
   "codemirror_mode": {
    "name": "ipython",
    "version": 3
   },
   "file_extension": ".py",
   "mimetype": "text/x-python",
   "name": "python",
   "nbconvert_exporter": "python",
   "pygments_lexer": "ipython3",
   "version": "3.13.5"
  }
 },
 "nbformat": 4,
 "nbformat_minor": 5
}
