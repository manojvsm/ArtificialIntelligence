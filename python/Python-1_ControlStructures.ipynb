{
 "cells": [
  {
   "cell_type": "code",
   "execution_count": 1,
   "id": "6036f7f1-3a07-4ad1-80fa-8df729de673f",
   "metadata": {},
   "outputs": [
    {
     "name": "stdout",
     "output_type": "stream",
     "text": [
      "Welcome to Assignment-1\n"
     ]
    }
   ],
   "source": [
    "print(\"Welcome to Assignment-1\")"
   ]
  },
  {
   "cell_type": "code",
   "execution_count": 2,
   "id": "afce4390-8e9a-4a7f-a0ae-e731e8afe2ba",
   "metadata": {},
   "outputs": [
    {
     "name": "stdin",
     "output_type": "stream",
     "text": [
      "Num1=  10\n",
      "Num2=  20\n"
     ]
    }
   ],
   "source": [
    "Num1= int(input(\"Num1= \"))\n",
    "Num2= int(input(\"Num2= \"))"
   ]
  },
  {
   "cell_type": "code",
   "execution_count": 3,
   "id": "3b41e23a-fe3b-442f-90d5-d10daa32598d",
   "metadata": {},
   "outputs": [
    {
     "name": "stdout",
     "output_type": "stream",
     "text": [
      "Add=  30\n"
     ]
    }
   ],
   "source": [
    "print(\"Add= \", Num1+Num2)"
   ]
  },
  {
   "cell_type": "code",
   "execution_count": 4,
   "id": "a8279d04-9aa1-4e1d-923f-ab2e49604550",
   "metadata": {},
   "outputs": [],
   "source": [
    "#Body Mass Index"
   ]
  },
  {
   "cell_type": "code",
   "execution_count": 7,
   "id": "51b4f61a-f8eb-41dc-ba5f-64a8e6d07222",
   "metadata": {},
   "outputs": [
    {
     "name": "stdin",
     "output_type": "stream",
     "text": [
      "Enter the BMI Index: 20\n"
     ]
    }
   ],
   "source": [
    "wgt = int(input(\"Enter the BMI Index:\"))"
   ]
  },
  {
   "cell_type": "code",
   "execution_count": 8,
   "id": "c29ad1dd-8397-459d-816c-3ba04b80e3fd",
   "metadata": {},
   "outputs": [
    {
     "name": "stdout",
     "output_type": "stream",
     "text": [
      "Normal\n"
     ]
    }
   ],
   "source": [
    "if(wgt < 25):\n",
    "    print(\"Normal\")\n",
    "elif(wgt < 30):\n",
    "    print(\"Over Weight\")\n",
    "elif(wgt< 40):\n",
    "    print(\"Very Overweight\")\n",
    "else:\n",
    "    print(\"Morbidly obese\")"
   ]
  },
  {
   "cell_type": "code",
   "execution_count": null,
   "id": "1a78e2aa-06e5-4dec-9708-b9343bdd0228",
   "metadata": {},
   "outputs": [],
   "source": []
  }
 ],
 "metadata": {
  "kernelspec": {
   "display_name": "Python 3 (ipykernel)",
   "language": "python",
   "name": "python3"
  },
  "language_info": {
   "codemirror_mode": {
    "name": "ipython",
    "version": 3
   },
   "file_extension": ".py",
   "mimetype": "text/x-python",
   "name": "python",
   "nbconvert_exporter": "python",
   "pygments_lexer": "ipython3",
   "version": "3.13.5"
  }
 },
 "nbformat": 4,
 "nbformat_minor": 5
}
