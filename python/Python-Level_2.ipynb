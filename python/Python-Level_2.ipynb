{
 "cells": [
  {
   "cell_type": "code",
   "execution_count": 1,
   "id": "b8184de6-2a79-4bcd-aa6a-aee500db6d30",
   "metadata": {},
   "outputs": [],
   "source": [
    "#print 0 to 20 by using range"
   ]
  },
  {
   "cell_type": "code",
   "execution_count": 2,
   "id": "0300578f-078b-4c62-a880-bd99ed51fd8d",
   "metadata": {},
   "outputs": [
    {
     "name": "stdout",
     "output_type": "stream",
     "text": [
      "0\n",
      "1\n",
      "2\n",
      "3\n",
      "4\n",
      "5\n",
      "6\n",
      "7\n",
      "8\n",
      "9\n",
      "10\n",
      "11\n",
      "12\n",
      "13\n",
      "14\n",
      "15\n",
      "16\n",
      "17\n",
      "18\n",
      "19\n"
     ]
    }
   ],
   "source": [
    "for num in range(0,20):\n",
    "    print(num)"
   ]
  },
  {
   "cell_type": "code",
   "execution_count": 3,
   "id": "a1680f14-6b28-4dbf-bf91-b4194f1effd8",
   "metadata": {},
   "outputs": [],
   "source": [
    "# print range 10 to 20"
   ]
  },
  {
   "cell_type": "code",
   "execution_count": 4,
   "id": "d324246e-2649-4fcf-b3eb-4d2bda7b29c3",
   "metadata": {},
   "outputs": [
    {
     "name": "stdout",
     "output_type": "stream",
     "text": [
      "10  11  12  13  14  15  16  17  18  19  "
     ]
    }
   ],
   "source": [
    "for num in range(10,20):\n",
    "    print (num, \" \", end=\"\")"
   ]
  },
  {
   "cell_type": "code",
   "execution_count": 5,
   "id": "4873b396-3476-49c9-ac0b-4bf72fa00949",
   "metadata": {},
   "outputs": [],
   "source": [
    "# Print number of items in the list by using 'len'"
   ]
  },
  {
   "cell_type": "code",
   "execution_count": 6,
   "id": "79a2c768-17e3-4c5d-b758-6a2806f6397c",
   "metadata": {},
   "outputs": [
    {
     "name": "stdout",
     "output_type": "stream",
     "text": [
      "Number of item in the List:\n",
      " 7\n"
     ]
    }
   ],
   "source": [
    "li = [10, 20, 14, 55, 43, 87, 76]\n",
    "print(\"Number of item in the List:\\n\",len(li))"
   ]
  },
  {
   "cell_type": "code",
   "execution_count": 7,
   "id": "088ed310-593d-442b-b6f9-89ce22779396",
   "metadata": {},
   "outputs": [
    {
     "name": "stdout",
     "output_type": "stream",
     "text": [
      "A\n",
      "r\n",
      "t\n",
      "i\n",
      "f\n",
      "i\n",
      "c\n",
      "i\n",
      "a\n",
      "l\n",
      " \n",
      "I\n",
      "n\n",
      "t\n",
      "e\n",
      "l\n",
      "l\n",
      "i\n",
      "g\n",
      "e\n",
      "n\n",
      "c\n",
      "e\n"
     ]
    }
   ],
   "source": [
    "ai = \"Artificial Intelligence\"\n",
    "for a in ai:\n",
    "    print (a)"
   ]
  },
  {
   "cell_type": "code",
   "execution_count": 8,
   "id": "77fd9cda-2c76-4e31-a846-077ec07666e4",
   "metadata": {},
   "outputs": [
    {
     "name": "stdout",
     "output_type": "stream",
     "text": [
      "(1, 'Welcome', 5, 'Hope')\n"
     ]
    }
   ],
   "source": [
    "#Print the mixered datatype using Tuples\n",
    "\n",
    "tup = (1,'Welcome',5,'Hope')\n",
    "print(tup)"
   ]
  },
  {
   "cell_type": "code",
   "execution_count": 9,
   "id": "438790e4-043f-47e2-88c6-cded0e676637",
   "metadata": {},
   "outputs": [
    {
     "name": "stdout",
     "output_type": "stream",
     "text": [
      "((0, 1, 2, 3), ('Welcome', 'Hope'))\n"
     ]
    }
   ],
   "source": [
    "Tuple1 = (0, 1, 2, 3)\n",
    "Tuple2 = ('Welcome', 'Hope')\n",
    "Tuple3 = Tuple1, Tuple2\n",
    "print (Tuple3)"
   ]
  },
  {
   "cell_type": "code",
   "execution_count": 10,
   "id": "cf789f95-8abf-4ff0-abee-644e92b95043",
   "metadata": {},
   "outputs": [
    {
     "name": "stdout",
     "output_type": "stream",
     "text": [
      "19  is odd\n",
      "25  is odd\n",
      "1  is odd\n"
     ]
    }
   ],
   "source": [
    "# print Odd Numbers in the list\n",
    "li = [20,10,16,19,25,1,276,188]\n",
    "for i in li:\n",
    "    if(i%2!=0):\n",
    "        print(i, \" is odd\")"
   ]
  },
  {
   "cell_type": "code",
   "execution_count": 11,
   "id": "47cf94d4-323a-42b2-91aa-0f393370ebd7",
   "metadata": {},
   "outputs": [
    {
     "name": "stdout",
     "output_type": "stream",
     "text": [
      "20  is even\n",
      "10  is even\n",
      "16  is even\n",
      "276  is even\n",
      "188  is even\n"
     ]
    }
   ],
   "source": [
    "# print Odd Numbers in the list\n",
    "li = [20,10,16,19,25,1,276,188]\n",
    "for i in li:\n",
    "    if(i%2 == 0):\n",
    "        print(i, \" is even\")"
   ]
  },
  {
   "cell_type": "code",
   "execution_count": null,
   "id": "b4684ccd-76df-4b59-916b-e63c3a9d1013",
   "metadata": {},
   "outputs": [],
   "source": []
  }
 ],
 "metadata": {
  "kernelspec": {
   "display_name": "Python 3 (ipykernel)",
   "language": "python",
   "name": "python3"
  },
  "language_info": {
   "codemirror_mode": {
    "name": "ipython",
    "version": 3
   },
   "file_extension": ".py",
   "mimetype": "text/x-python",
   "name": "python",
   "nbconvert_exporter": "python",
   "pygments_lexer": "ipython3",
   "version": "3.13.5"
  }
 },
 "nbformat": 4,
 "nbformat_minor": 5
}
