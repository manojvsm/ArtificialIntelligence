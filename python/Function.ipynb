{
 "cells": [
  {
   "cell_type": "code",
   "execution_count": 1,
   "id": "765a2c39-42ec-404a-a4cc-6b178882c90d",
   "metadata": {},
   "outputs": [
    {
     "name": "stdout",
     "output_type": "stream",
     "text": [
      "Sub-fields in AI are:\n",
      "Machine Learning\n",
      "Neural Networks\n",
      "Vision\n",
      "Robotics\n",
      "Speech Processing\n",
      "Natural Language Processing\n"
     ]
    }
   ],
   "source": [
    "class SubfieldsInAi:\n",
    "    def subfields():\n",
    "        list = [\"Machine Learning\",\"Neural Networks\",\"Vision\",\"Robotics\",\"Speech Processing\",\"Natural Language Processing\"]\n",
    "        print (\"Sub-fields in AI are:\")\n",
    "        for i in list:\n",
    "            print (i)\n",
    "SubfieldsInAi.subfields()"
   ]
  },
  {
   "cell_type": "code",
   "execution_count": 2,
   "id": "1ba51c66-1bfc-4c28-b340-10dd51f337bb",
   "metadata": {},
   "outputs": [
    {
     "name": "stdin",
     "output_type": "stream",
     "text": [
      "Enter the number:  52452\n"
     ]
    },
    {
     "name": "stdout",
     "output_type": "stream",
     "text": [
      "52452  is Even number\n"
     ]
    }
   ],
   "source": [
    "class OddEven:\n",
    "    def OddEven(num):\n",
    "        if(num % 2 == 0):\n",
    "            print (num,\" is Even number\")\n",
    "        else:\n",
    "            print (num,\" is Odd number\")\n",
    "num=int(input(\"Enter the number: \"))\n",
    "OddEven.OddEven(num)"
   ]
  },
  {
   "cell_type": "code",
   "execution_count": 3,
   "id": "982b8bdd-b93f-4b9c-9355-c84c5835a03d",
   "metadata": {},
   "outputs": [
    {
     "name": "stdin",
     "output_type": "stream",
     "text": [
      "Your Gender:  Male\n",
      "Your Age:  20\n"
     ]
    },
    {
     "data": {
      "text/plain": [
       "'Not Elegible'"
      ]
     },
     "execution_count": 3,
     "metadata": {},
     "output_type": "execute_result"
    }
   ],
   "source": [
    "class ElegiblityForMarriage:\n",
    "    def Elegible():\n",
    "        if(gender == \"Male\"):\n",
    "            if(age >= 21):\n",
    "                return \"Elegiable\"\n",
    "            else:\n",
    "                return \"Not Elegible\"\n",
    "        elif(gender == \"Female\"):\n",
    "            if(age >= 18):\n",
    "                return \"Elegiable\"\n",
    "            else:\n",
    "                return \"Not Elegible\"\n",
    "        else:\n",
    "            return \"Enter correct gender\"\n",
    "gender = input(\"Your Gender: \")\n",
    "age = int(input(\"Your Age: \"))\n",
    "\n",
    "ElegiblityForMarriage.Elegible()"
   ]
  },
  {
   "cell_type": "code",
   "execution_count": 4,
   "id": "a24bb71c-2f63-40e1-80c1-6b985a6f405a",
   "metadata": {},
   "outputs": [
    {
     "name": "stdin",
     "output_type": "stream",
     "text": [
      "subject1= 98\n",
      "subject2= 87\n",
      "subject3= 95\n",
      "subject4= 95\n",
      "subject5= 93\n"
     ]
    },
    {
     "name": "stdout",
     "output_type": "stream",
     "text": [
      "Total :  468\n",
      "percentage :  93.6\n"
     ]
    }
   ],
   "source": [
    "class FindPercent:\n",
    "    def percentage():\n",
    "        print (\"Total : \", (sub1 + sub2 + sub3 + sub4 + sub5))\n",
    "        print (\"percentage : \",(sub1 + sub2 + sub3 + sub4 + sub5) / 5)\n",
    "\n",
    "sub1 = int(input(\"subject1=\"))\n",
    "sub2 = int(input(\"subject2=\"))\n",
    "sub3 = int(input(\"subject3=\"))\n",
    "sub4 = int(input(\"subject4=\"))\n",
    "sub5 = int(input(\"subject5=\"))\n",
    "FindPercent.percentage()"
   ]
  },
  {
   "cell_type": "code",
   "execution_count": 5,
   "id": "0011a68e-043b-4aee-a78a-a7c4abcdede4",
   "metadata": {},
   "outputs": [
    {
     "name": "stdin",
     "output_type": "stream",
     "text": [
      "Height: 32\n",
      "Breadth: 34\n",
      "Height1: 2\n",
      "Height2: 4\n",
      "Breadth: 4\n"
     ]
    },
    {
     "name": "stdout",
     "output_type": "stream",
     "text": [
      "Area of Triangle: 544.0\n",
      "Perimeter of Triangle: 10\n"
     ]
    }
   ],
   "source": [
    "class triangle:\n",
    "    def triangle():\n",
    "        print(\"Area of Triangle:\", (height*breadth)/2)\n",
    "        print(\"Perimeter of Triangle:\", height1+height2+breadth1)\n",
    "\n",
    "height = int(input(\"Height:\"))\n",
    "breadth = int(input(\"Breadth:\"))\n",
    "height1 = int(input(\"Height1:\"))\n",
    "height2 = int(input(\"Height2:\"))\n",
    "breadth1 = int(input(\"Breadth:\"))\n",
    "triangle.triangle()"
   ]
  },
  {
   "cell_type": "code",
   "execution_count": null,
   "id": "9de7fd8d-a907-4756-a2bb-e1fa8eefba2b",
   "metadata": {},
   "outputs": [],
   "source": []
  }
 ],
 "metadata": {
  "kernelspec": {
   "display_name": "Python 3 (ipykernel)",
   "language": "python",
   "name": "python3"
  },
  "language_info": {
   "codemirror_mode": {
    "name": "ipython",
    "version": 3
   },
   "file_extension": ".py",
   "mimetype": "text/x-python",
   "name": "python",
   "nbconvert_exporter": "python",
   "pygments_lexer": "ipython3",
   "version": "3.13.5"
  }
 },
 "nbformat": 4,
 "nbformat_minor": 5
}
