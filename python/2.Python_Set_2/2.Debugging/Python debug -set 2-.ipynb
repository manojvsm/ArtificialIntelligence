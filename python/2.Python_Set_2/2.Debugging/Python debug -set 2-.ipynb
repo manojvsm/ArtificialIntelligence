{
 "cells": [
  {
   "cell_type": "code",
   "execution_count": null,
   "id": "90e9fa4e",
   "metadata": {},
   "outputs": [],
   "source": [
    "#1.Find the error in the following Python code:\n",
    "import math\n",
    "print(Math.sqrt(16))\n"
   ]
  },
  {
   "cell_type": "code",
   "execution_count": 1,
   "id": "8d2f2c06-d6f1-467b-8794-9c820edbbb1b",
   "metadata": {},
   "outputs": [
    {
     "name": "stdout",
     "output_type": "stream",
     "text": [
      "4.0\n"
     ]
    }
   ],
   "source": [
    "import math\n",
    "print(math.sqrt(16))"
   ]
  },
  {
   "cell_type": "code",
   "execution_count": null,
   "id": "55520fd2",
   "metadata": {},
   "outputs": [],
   "source": [
    "#2.Find the error in the following Python code:\n",
    "def my_function():\n",
    "    x += 5\n",
    "    print(x)\n",
    "\n",
    "x = 10\n",
    "my_function()\n"
   ]
  },
  {
   "cell_type": "code",
   "execution_count": 2,
   "id": "c1c81e5e-5a3f-4e01-bc00-e873b1c198b5",
   "metadata": {},
   "outputs": [
    {
     "name": "stdout",
     "output_type": "stream",
     "text": [
      "15\n"
     ]
    }
   ],
   "source": [
    "def my_function():\n",
    "    global x\n",
    "    x += 5\n",
    "    print(x)\n",
    "\n",
    "x = 10\n",
    "my_function()"
   ]
  },
  {
   "cell_type": "code",
   "execution_count": null,
   "id": "f23899ca",
   "metadata": {},
   "outputs": [],
   "source": [
    "#3.x = 5\n",
    "if x = 10:\n",
    "    print(\"x is 10\")\n"
   ]
  },
  {
   "cell_type": "code",
   "execution_count": 3,
   "id": "eb505e20-79be-41e8-9831-2244f7b3b891",
   "metadata": {},
   "outputs": [],
   "source": [
    "x = 5\n",
    "if x == 10:\n",
    "    print(\"x is 10\")"
   ]
  },
  {
   "cell_type": "code",
   "execution_count": null,
   "id": "c644c2f2",
   "metadata": {},
   "outputs": [],
   "source": [
    "#4.\n",
    "numbers = [5, 3, 8, 2]\n",
    "print(numbers.sort())\n"
   ]
  },
  {
   "cell_type": "code",
   "execution_count": 4,
   "id": "9bcd9a1c-5207-4d1c-91e0-539d2d977371",
   "metadata": {},
   "outputs": [
    {
     "name": "stdout",
     "output_type": "stream",
     "text": [
      "[2, 3, 5, 8]\n"
     ]
    }
   ],
   "source": [
    "numbers = [5, 3, 8, 2]\n",
    "numbers.sort()\n",
    "print(numbers)"
   ]
  },
  {
   "cell_type": "code",
   "execution_count": null,
   "id": "c6bc9bfb",
   "metadata": {},
   "outputs": [],
   "source": [
    "#5.\n",
    "def square(n):\n",
    "    n * n\n",
    "\n",
    "print(square(4))\n"
   ]
  },
  {
   "cell_type": "code",
   "execution_count": 5,
   "id": "8d156db2-53ea-472e-8972-ac9d3c5c0364",
   "metadata": {},
   "outputs": [
    {
     "name": "stdout",
     "output_type": "stream",
     "text": [
      "16\n"
     ]
    }
   ],
   "source": [
    "def square(n):\n",
    "    return n * n\n",
    "\n",
    "print(square(4))"
   ]
  },
  {
   "cell_type": "code",
   "execution_count": null,
   "id": "3a9dbcc0",
   "metadata": {},
   "outputs": [],
   "source": [
    "#6.\n",
    "my_tuple = (1, 2, 3)\n",
    "my_tuple[1] = 5\n"
   ]
  },
  {
   "cell_type": "code",
   "execution_count": 6,
   "id": "79d0f0cf-f040-44cb-bba7-b9ff3c9cfb9c",
   "metadata": {},
   "outputs": [],
   "source": [
    "#Not replace - create new tuple\n",
    "my_tuple = (1, 2, 3)\n",
    "my_tuple = (1, 5, 3)"
   ]
  },
  {
   "cell_type": "code",
   "execution_count": null,
   "id": "4a72685b",
   "metadata": {},
   "outputs": [],
   "source": [
    "#7.\n",
    "name = \"Alice\"\n",
    "age = 25\n",
    "print(\"My name is %s and I am %d years old\" % (name))\n"
   ]
  },
  {
   "cell_type": "code",
   "execution_count": 7,
   "id": "fe96a56a-9d71-4ccb-8c22-6993e0d5335e",
   "metadata": {},
   "outputs": [
    {
     "name": "stdout",
     "output_type": "stream",
     "text": [
      "My name is Alice and I am 25 years old\n",
      "My name is Alice and I am 25 years old\n",
      "My name is Alice and I am 25 years old\n",
      "My name is Alice and I am 25 years old\n"
     ]
    }
   ],
   "source": [
    "name = \"Alice\"\n",
    "age = 25\n",
    "print(\"My name is %s and I am %d years old\" % (name,age))\n",
    "print(\"My name is {} and I am {} years old\".format(name , age))\n",
    "print(f\"My name is {name} and I am {age} years old\")\n",
    "print(\"My name is {names} and I am {ages} years old\".format(names = name, ages = age))"
   ]
  },
  {
   "cell_type": "code",
   "execution_count": null,
   "id": "3de969fe",
   "metadata": {},
   "outputs": [],
   "source": [
    "#8.\n",
    "a = [1, 2, 3]\n",
    "b = [1, 2, 3]\n",
    "if a is b:\n",
    "    print(\"Lists are equal\")\n"
   ]
  },
  {
   "cell_type": "code",
   "execution_count": 8,
   "id": "ef21a881-cf74-4b97-a7c4-67bfb5b2e6d4",
   "metadata": {},
   "outputs": [
    {
     "name": "stdout",
     "output_type": "stream",
     "text": [
      "Lists are equal\n"
     ]
    }
   ],
   "source": [
    "a = [1, 2, 3]\n",
    "b = [1, 2, 3]\n",
    "if a == b:\n",
    "    print(\"Lists are equal\")"
   ]
  },
  {
   "cell_type": "code",
   "execution_count": null,
   "id": "dbe38465",
   "metadata": {},
   "outputs": [],
   "source": [
    "#9.\n",
    "for i in range(5, 1):\n",
    "    print(i)\n"
   ]
  },
  {
   "cell_type": "code",
   "execution_count": 9,
   "id": "0e0ce555-b057-4bf3-aa76-d4bd9af4fed4",
   "metadata": {},
   "outputs": [
    {
     "name": "stdout",
     "output_type": "stream",
     "text": [
      "5\n",
      "4\n",
      "3\n",
      "2\n"
     ]
    }
   ],
   "source": [
    "for i in range(5, 1, -1):\n",
    "    print(i)"
   ]
  },
  {
   "cell_type": "code",
   "execution_count": null,
   "id": "30cb0523",
   "metadata": {},
   "outputs": [],
   "source": [
    "#10.\n",
    "student = {\"name\": \"John\", \"age\": 20}\n",
    "print(student[name])\n"
   ]
  },
  {
   "cell_type": "code",
   "execution_count": 10,
   "id": "2821d9c2-2a38-4553-a901-dcdcf46d484a",
   "metadata": {},
   "outputs": [
    {
     "name": "stdout",
     "output_type": "stream",
     "text": [
      "John\n"
     ]
    }
   ],
   "source": [
    "student = {\"name\": \"John\", \"age\": 20}\n",
    "print(student[\"name\"])"
   ]
  },
  {
   "cell_type": "code",
   "execution_count": null,
   "id": "f153ef11-71db-4fbc-b00a-4c25bda8be5d",
   "metadata": {},
   "outputs": [],
   "source": []
  }
 ],
 "metadata": {
  "kernelspec": {
   "display_name": "Python 3 (ipykernel)",
   "language": "python",
   "name": "python3"
  },
  "language_info": {
   "codemirror_mode": {
    "name": "ipython",
    "version": 3
   },
   "file_extension": ".py",
   "mimetype": "text/x-python",
   "name": "python",
   "nbconvert_exporter": "python",
   "pygments_lexer": "ipython3",
   "version": "3.13.5"
  }
 },
 "nbformat": 4,
 "nbformat_minor": 5
}
