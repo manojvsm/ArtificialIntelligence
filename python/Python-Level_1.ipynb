{
 "cells": [
  {
   "cell_type": "code",
   "execution_count": 1,
   "id": "cb4adf87-2b1f-49ca-9fd3-95dfcf77752e",
   "metadata": {},
   "outputs": [
    {
     "name": "stdout",
     "output_type": "stream",
     "text": [
      "HOPE AI\n"
     ]
    }
   ],
   "source": [
    "print(\"HOPE AI\")"
   ]
  },
  {
   "cell_type": "code",
   "execution_count": 2,
   "id": "eaf5b1ef-8bb0-4415-8483-6f7519e31777",
   "metadata": {},
   "outputs": [
    {
     "name": "stdin",
     "output_type": "stream",
     "text": [
      "Enter your institute name? :  HOPE AI\n"
     ]
    }
   ],
   "source": [
    "inst = input(\"Enter your institute name? : \")"
   ]
  },
  {
   "cell_type": "code",
   "execution_count": 3,
   "id": "7d9306f0-3a5c-4a42-b080-ba961c9f4a6e",
   "metadata": {},
   "outputs": [
    {
     "name": "stdin",
     "output_type": "stream",
     "text": [
      "Enter your name:  Manoj\n",
      "Enter your age:  26\n",
      "Enter your school name:  ABC School\n",
      "Enter your drgree:  B.E CSE\n"
     ]
    }
   ],
   "source": [
    "name = input(\"Enter your name: \")\n",
    "age = int(input(\"Enter your age: \"))\n",
    "school = input(\"Enter your school name: \")\n",
    "degree = input(\"Enter your drgree: \")"
   ]
  },
  {
   "cell_type": "code",
   "execution_count": 4,
   "id": "cc3e407c-001b-482d-8cee-5e645cecc5b2",
   "metadata": {},
   "outputs": [
    {
     "name": "stdin",
     "output_type": "stream",
     "text": [
      "a=  5\n",
      "b=  6\n"
     ]
    },
    {
     "name": "stdout",
     "output_type": "stream",
     "text": [
      "add =  11\n"
     ]
    }
   ],
   "source": [
    "num1 = int(input(\"a= \"))\n",
    "num2 = int(input(\"b= \"))\n",
    "print (\"add = \",num1+num2)"
   ]
  },
  {
   "cell_type": "code",
   "execution_count": 5,
   "id": "34c9d6a1-6903-47da-97e0-67c36fbd129b",
   "metadata": {},
   "outputs": [
    {
     "name": "stdin",
     "output_type": "stream",
     "text": [
      "a=  45\n",
      "b=  23\n"
     ]
    },
    {
     "name": "stdout",
     "output_type": "stream",
     "text": [
      "sub =  22\n"
     ]
    }
   ],
   "source": [
    "num1 = int(input(\"a= \"))\n",
    "num2 = int(input(\"b= \"))\n",
    "print(\"sub = \",num1-num2)"
   ]
  },
  {
   "cell_type": "code",
   "execution_count": 6,
   "id": "46811171-0373-46c5-89f0-f46657ac9e91",
   "metadata": {},
   "outputs": [
    {
     "name": "stdin",
     "output_type": "stream",
     "text": [
      "a=  5\n",
      "b=  4\n"
     ]
    },
    {
     "name": "stdout",
     "output_type": "stream",
     "text": [
      "mul =  20\n"
     ]
    }
   ],
   "source": [
    "num1 = int(input(\"a= \"))\n",
    "num2 = int(input(\"b= \"))\n",
    "print(\"mul = \",num1*num2)"
   ]
  },
  {
   "cell_type": "code",
   "execution_count": 7,
   "id": "03a11215-5b98-4b28-8326-536fa945285f",
   "metadata": {},
   "outputs": [
    {
     "name": "stdin",
     "output_type": "stream",
     "text": [
      "a=  6\n",
      "b=  5\n"
     ]
    },
    {
     "name": "stdout",
     "output_type": "stream",
     "text": [
      "Float div =  1.2\n"
     ]
    }
   ],
   "source": [
    "num1 = int(input(\"a= \"))\n",
    "num2 = int(input(\"b= \"))\n",
    "print(\"Float div = \",num1/num2)"
   ]
  },
  {
   "cell_type": "code",
   "execution_count": 8,
   "id": "a9ae3f66-5197-4b4a-94f8-01dafb94ad11",
   "metadata": {},
   "outputs": [
    {
     "name": "stdin",
     "output_type": "stream",
     "text": [
      "a=  76\n",
      "b=  31\n"
     ]
    },
    {
     "name": "stdout",
     "output_type": "stream",
     "text": [
      "Modulo =  14\n"
     ]
    }
   ],
   "source": [
    "num1 = int(input(\"a= \"))\n",
    "num2 = int(input(\"b= \"))\n",
    "print(\"Modulo = \",num1%num2)"
   ]
  },
  {
   "cell_type": "code",
   "execution_count": 9,
   "id": "fbb8f4a2-4136-4878-94dd-26c200819a02",
   "metadata": {},
   "outputs": [
    {
     "name": "stdin",
     "output_type": "stream",
     "text": [
      "a=  4\n",
      "b=  4\n"
     ]
    },
    {
     "name": "stdout",
     "output_type": "stream",
     "text": [
      "Modulo =  256\n"
     ]
    }
   ],
   "source": [
    "num1 = int(input(\"a= \"))\n",
    "num2 = int(input(\"b= \"))\n",
    "print(\"Modulo = \",num1 ** num2)"
   ]
  },
  {
   "cell_type": "code",
   "execution_count": null,
   "id": "e8d352a0-7852-4af9-adc0-a4e1bd3f5f1c",
   "metadata": {},
   "outputs": [],
   "source": []
  }
 ],
 "metadata": {
  "kernelspec": {
   "display_name": "Python 3 (ipykernel)",
   "language": "python",
   "name": "python3"
  },
  "language_info": {
   "codemirror_mode": {
    "name": "ipython",
    "version": 3
   },
   "file_extension": ".py",
   "mimetype": "text/x-python",
   "name": "python",
   "nbconvert_exporter": "python",
   "pygments_lexer": "ipython3",
   "version": "3.13.5"
  }
 },
 "nbformat": 4,
 "nbformat_minor": 5
}
